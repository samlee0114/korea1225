{
 "cells": [
  {
   "cell_type": "code",
   "execution_count": 2,
   "metadata": {
    "collapsed": true
   },
   "outputs": [],
   "source": [
    "#키:값 -> 딕셔너리\n",
    "#id:lim\n",
    "#pw:1234"
   ]
  },
  {
   "cell_type": "code",
   "execution_count": 3,
   "metadata": {
    "collapsed": true
   },
   "outputs": [],
   "source": [
    "import random"
   ]
  },
  {
   "cell_type": "code",
   "execution_count": 4,
   "metadata": {},
   "outputs": [
    {
     "data": {
      "text/plain": [
       "40"
      ]
     },
     "execution_count": 4,
     "metadata": {},
     "output_type": "execute_result"
    }
   ],
   "source": [
    "number=random.randint(1,100)\n",
    "number"
   ]
  },
  {
   "cell_type": "code",
   "execution_count": 6,
   "metadata": {
    "collapsed": true
   },
   "outputs": [],
   "source": [
    "r=200"
   ]
  },
  {
   "cell_type": "code",
   "execution_count": 7,
   "metadata": {
    "collapsed": true
   },
   "outputs": [],
   "source": [
    "r=100"
   ]
  },
  {
   "cell_type": "code",
   "execution_count": 19,
   "metadata": {},
   "outputs": [
    {
     "name": "stdout",
     "output_type": "stream",
     "text": [
      "1부터 50까지 숫자를 맞혀주세요.\n",
      "숫자를 입력하세요.25\n",
      "up\n",
      "숫자를 입력하세요.37\n",
      "down\n",
      "숫자를 입력하세요.30\n",
      "down\n",
      "숫자를 입력하세요.27\n",
      "정답입니다.\n"
     ]
    }
   ],
   "source": [
    "number=random.randint(1,50)\n",
    "number\n",
    "\n",
    "print(\"1부터 50까지 숫자를 맞혀주세요.\")\n",
    "tries=0\n",
    "\n",
    "while tries<5:\n",
    "    guess=int(input(\"숫자를 입력하세요.\"))\n",
    "    tries=tries+1\n",
    "    if guess==number:\n",
    "        print(\"정답입니다.\")\n",
    "        break\n",
    "    else:\n",
    "        if guess<number:\n",
    "            print(\"up\")\n",
    "        else:\n",
    "            print(\"down\")\n",
    "            \n",
    "    "
   ]
  },
  {
   "cell_type": "code",
   "execution_count": null,
   "metadata": {
    "collapsed": true
   },
   "outputs": [],
   "source": []
  }
 ],
 "metadata": {
  "kernelspec": {
   "display_name": "Python 3",
   "language": "python",
   "name": "python3"
  },
  "language_info": {
   "codemirror_mode": {
    "name": "ipython",
    "version": 3
   },
   "file_extension": ".py",
   "mimetype": "text/x-python",
   "name": "python",
   "nbconvert_exporter": "python",
   "pygments_lexer": "ipython3",
   "version": "3.6.2"
  }
 },
 "nbformat": 4,
 "nbformat_minor": 2
}
